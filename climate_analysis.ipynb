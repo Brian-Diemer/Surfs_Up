{
 "cells": [
  {
   "cell_type": "code",
   "execution_count": 91,
   "metadata": {},
   "outputs": [],
   "source": [
    "#Import Dependencies\n",
    "import os\n",
    "import pandas as pd\n",
    "import sqlalchemy\n",
    "from sqlalchemy import create_engine, MetaData, func\n",
    "from sqlalchemy.ext.declarative import declarative_base\n",
    "from sqlalchemy import Column, Integer, String, Numeric, Text, Float\n",
    "from sqlalchemy.ext.automap import automap_base\n",
    "from sqlalchemy.orm import Session\n",
    "import datetime as dt\n",
    "import matplotlib.pyplot as plt\n",
    "import matplotlib.patches as mpatches\n",
    "import seaborn as sns"
   ]
  },
  {
   "cell_type": "code",
   "execution_count": 92,
   "metadata": {},
   "outputs": [],
   "source": [
    "engine = create_engine(\"sqlite:///hawaii.sqlite\")"
   ]
  },
  {
   "cell_type": "code",
   "execution_count": 93,
   "metadata": {},
   "outputs": [],
   "source": [
    "Base = automap_base()"
   ]
  },
  {
   "cell_type": "code",
   "execution_count": 94,
   "metadata": {},
   "outputs": [],
   "source": [
    "Base.prepare(engine, reflect=True)"
   ]
  },
  {
   "cell_type": "code",
   "execution_count": 95,
   "metadata": {},
   "outputs": [
    {
     "data": {
      "text/plain": [
       "['Measurements', 'Station']"
      ]
     },
     "execution_count": 95,
     "metadata": {},
     "output_type": "execute_result"
    }
   ],
   "source": [
    "Base.classes.keys()"
   ]
  },
  {
   "cell_type": "code",
   "execution_count": 96,
   "metadata": {},
   "outputs": [],
   "source": [
    "Measurements = Base.classes.Measurements\n",
    "Station = Base.classes.Station"
   ]
  },
  {
   "cell_type": "code",
   "execution_count": 97,
   "metadata": {},
   "outputs": [],
   "source": [
    "session = Session(engine)"
   ]
  },
  {
   "cell_type": "code",
   "execution_count": 99,
   "metadata": {},
   "outputs": [],
   "source": [
    "#Get Precipitation Data for the last year\n",
    "prcp_year = session.query(Measurements.date, Measurements.prcp).\\\n",
    "    filter(Measurements.date >= (dt.date.today() - dt.timedelta(days=365))).all()"
   ]
  },
  {
   "cell_type": "code",
   "execution_count": 100,
   "metadata": {},
   "outputs": [
    {
     "data": {
      "text/html": [
       "<div>\n",
       "<style scoped>\n",
       "    .dataframe tbody tr th:only-of-type {\n",
       "        vertical-align: middle;\n",
       "    }\n",
       "\n",
       "    .dataframe tbody tr th {\n",
       "        vertical-align: top;\n",
       "    }\n",
       "\n",
       "    .dataframe thead th {\n",
       "        text-align: right;\n",
       "    }\n",
       "</style>\n",
       "<table border=\"1\" class=\"dataframe\">\n",
       "  <thead>\n",
       "    <tr style=\"text-align: right;\">\n",
       "      <th></th>\n",
       "      <th>Precipitation</th>\n",
       "    </tr>\n",
       "    <tr>\n",
       "      <th>Date</th>\n",
       "      <th></th>\n",
       "    </tr>\n",
       "  </thead>\n",
       "  <tbody>\n",
       "    <tr>\n",
       "      <th>2017-04-07</th>\n",
       "      <td>0.0</td>\n",
       "    </tr>\n",
       "    <tr>\n",
       "      <th>2017-04-08</th>\n",
       "      <td>0.0</td>\n",
       "    </tr>\n",
       "    <tr>\n",
       "      <th>2017-04-09</th>\n",
       "      <td>0.0</td>\n",
       "    </tr>\n",
       "    <tr>\n",
       "      <th>2017-04-10</th>\n",
       "      <td>0.0</td>\n",
       "    </tr>\n",
       "    <tr>\n",
       "      <th>2017-04-11</th>\n",
       "      <td>0.0</td>\n",
       "    </tr>\n",
       "  </tbody>\n",
       "</table>\n",
       "</div>"
      ],
      "text/plain": [
       "            Precipitation\n",
       "Date                     \n",
       "2017-04-07            0.0\n",
       "2017-04-08            0.0\n",
       "2017-04-09            0.0\n",
       "2017-04-10            0.0\n",
       "2017-04-11            0.0"
      ]
     },
     "execution_count": 100,
     "metadata": {},
     "output_type": "execute_result"
    }
   ],
   "source": [
    "#Import query into DataFrame\n",
    "prcp_df = pd.DataFrame(prcp_year, columns=['Date','Precipitation'])\n",
    "prcp_df.set_index('Date', inplace=True)\n",
    "prcp_df = prcp_df.dropna()\n",
    "prcp_df.head()"
   ]
  },
  {
   "cell_type": "code",
   "execution_count": 101,
   "metadata": {},
   "outputs": [
    {
     "data": {
      "image/png": "[encoded data removed]",
      "text/plain": [
       "<matplotlib.figure.Figure at 0x1a1e957e80>"
      ]
     },
     "metadata": {},
     "output_type": "display_data"
    }
   ],
   "source": [
    "#Plot Precipitation Data\n",
    "x = range(len(prcp_df.index.values))\n",
    "y = prcp_df['Precipitation']\n",
    "\n",
    "plt.bar(x, y,width=20)\n",
    "labels= prcp_df.index.values\n",
    "plt.xticks(range(len(prcp_df.index.values)), labels, rotation=45)\n",
    "plt.title(\"Precipitation\")\n",
    "plt.locator_params(nbins=12, axis= 'x')\n",
    "plt.ylabel('Inches')\n",
    "plt.xlabel('Month')\n",
    "\n",
    "plt.show()"
   ]
  },
  {
   "cell_type": "code",
   "execution_count": 102,
   "metadata": {},
   "outputs": [
    {
     "name": "stdout",
     "output_type": "stream",
     "text": [
      "There are 9 stations.\n"
     ]
    }
   ],
   "source": [
    "#Query Total Stations\n",
    "station_list = session.query(Station.id, Station.name).all()\n",
    "\n",
    "station_name_df = pd.DataFrame(station_list, columns = ['ID', 'Name'])\n",
    "\n",
    "print(f\"There are {len(station_name_df['ID'])} stations.\")"
   ]
  },
  {
   "cell_type": "code",
   "execution_count": 103,
   "metadata": {},
   "outputs": [
    {
     "name": "stdout",
     "output_type": "stream",
     "text": [
      "USC00519281 has the highest number of observations with 2772.\n"
     ]
    }
   ],
   "source": [
    "#Query Total Station Observations\n",
    "station_obs = [Measurements.station,\n",
    "               func.count(Measurements.tobs)]\n",
    "\n",
    "station_obs_query = session.query(*station_obs).\\\n",
    "                                group_by(Measurements.station).all()\n",
    "    \n",
    "station_obs_df = pd.DataFrame(station_obs_query, columns = ['Station', 'TotalObs'])\n",
    "\n",
    "station_obs_df = station_obs_df.sort_values(by = 'TotalObs', ascending=False)\n",
    "\n",
    "station_obs_df = station_obs_df.reset_index(drop=True)\n",
    "\n",
    "\n",
    "print(f\"{station_obs_df['Station'][0]} has the highest number of observations with {station_obs_df['TotalObs'][0]}.\")\n"
   ]
  },
  {
   "cell_type": "code",
   "execution_count": 104,
   "metadata": {},
   "outputs": [],
   "source": [
    "#Get Station with Max Reads\n",
    "station_max = station_obs_df['Station'][0]"
   ]
  },
  {
   "cell_type": "code",
   "execution_count": 105,
   "metadata": {},
   "outputs": [
    {
     "data": {
      "text/html": [
       "<div>\n",
       "<style scoped>\n",
       "    .dataframe tbody tr th:only-of-type {\n",
       "        vertical-align: middle;\n",
       "    }\n",
       "\n",
       "    .dataframe tbody tr th {\n",
       "        vertical-align: top;\n",
       "    }\n",
       "\n",
       "    .dataframe thead th {\n",
       "        text-align: right;\n",
       "    }\n",
       "</style>\n",
       "<table border=\"1\" class=\"dataframe\">\n",
       "  <thead>\n",
       "    <tr style=\"text-align: right;\">\n",
       "      <th></th>\n",
       "      <th>Station</th>\n",
       "      <th>TotalObs</th>\n",
       "      <th>Date</th>\n",
       "    </tr>\n",
       "  </thead>\n",
       "  <tbody>\n",
       "    <tr>\n",
       "      <th>0</th>\n",
       "      <td>USC00519281</td>\n",
       "      <td>74</td>\n",
       "      <td>2017-04-07</td>\n",
       "    </tr>\n",
       "  </tbody>\n",
       "</table>\n",
       "</div>"
      ],
      "text/plain": [
       "       Station  TotalObs        Date\n",
       "0  USC00519281        74  2017-04-07"
      ]
     },
     "execution_count": 105,
     "metadata": {},
     "output_type": "execute_result"
    }
   ],
   "source": [
    "#Put observations into a data frame\n",
    "max_obs = session.query(Measurements.station, Measurements.tobs, Measurements.date).\\\n",
    "    filter(Measurements.date >= (dt.date.today() - dt.timedelta(days=365))).\\\n",
    "    filter(Measurements.station == station_max ).all()\n",
    "\n",
    "max_obs_df = pd.DataFrame(max_obs, columns=['Station','TotalObs','Date'])\n",
    "max_obs_df.head(1)"
   ]
  },
  {
   "cell_type": "code",
   "execution_count": 106,
   "metadata": {},
   "outputs": [
    {
     "data": {
      "image/png": "[encoded data removed]",
      "text/plain": [
       "<matplotlib.figure.Figure at 0x1a1ea16390>"
      ]
     },
     "metadata": {},
     "output_type": "display_data"
    }
   ],
   "source": [
    "#Plot Graph\n",
    "y = max_obs_df['TotalObs']\n",
    "\n",
    "plt.hist(y)\n",
    "labels= prcp_df.index.values\n",
    "plt.locator_params(nbins=12, axis= 'x')\n",
    "plt.ylabel('Frequency')\n",
    "sns.set()\n",
    "plt.show()"
   ]
  },
  {
   "cell_type": "code",
   "execution_count": 107,
   "metadata": {},
   "outputs": [],
   "source": [
    "#Get min, max and average temps for date range\n",
    "start_date = '2017-04-09'\n",
    "end_date = '2017-05-10'\n",
    "\n",
    "def calc_temp(start_date, end_date):\n",
    "    \n",
    "    minimum_temp = session.query(func.min(Measurements.tobs)).\\\n",
    "        filter(Measurements.date >= start_date).\\\n",
    "        filter(Measurements.date <= end_date).all()\n",
    "    \n",
    "    max_temp = session.query(func.max(Measurements.tobs)).\\\n",
    "        filter(Measurements.date >= start_date).\\\n",
    "        filter(Measurements.date <= end_date).all()\n",
    "    \n",
    "    average_temp = session.query(func.avg(Measurements.tobs)).\\\n",
    "        filter(Measurements.date >= start_date).\\\n",
    "        filter(Measurements.date <= end_date).all()\n",
    "    \n",
    "    return minimum_temp, max_temp, average_temp"
   ]
  },
  {
   "cell_type": "code",
   "execution_count": 108,
   "metadata": {},
   "outputs": [
    {
     "data": {
      "text/plain": [
       "{'Average': 73.81725888324873, 'Maximum': 83, 'Minimum': 58}"
      ]
     },
     "execution_count": 108,
     "metadata": {},
     "output_type": "execute_result"
    }
   ],
   "source": [
    "#Put return values into a dictionary\n",
    "temp_trip = calc_temp(start_date, end_date)\n",
    "\n",
    "Minimum = temp_trip[0][0][0]\n",
    "Maximum = temp_trip[1][0][0]\n",
    "Average = temp_trip[2][0][0]\n",
    "\n",
    "temp_dict = {\"Minimum\":Minimum,\n",
    "             \"Maximum\":Maximum,\n",
    "             \"Average\":Average}\n",
    "temp_dict"
   ]
  },
  {
   "cell_type": "code",
   "execution_count": 109,
   "metadata": {},
   "outputs": [
    {
     "data": {
      "text/plain": [
       "Text(0.5,1,'Temperature Range')"
      ]
     },
     "execution_count": 109,
     "metadata": {},
     "output_type": "execute_result"
    },
    {
     "data": {
      "image/png": "[encoded data removed]",
      "text/plain": [
       "<matplotlib.figure.Figure at 0x1a1f5d0630>"
      ]
     },
     "metadata": {},
     "output_type": "display_data"
    }
   ],
   "source": [
    "temp_df = pd.Series(temp_dict, index=temp_dict.keys())\n",
    "sns.boxplot(y=temp_df, width=.4)\n",
    "avg_patch = mpatches.Patch(label = 'Average: 73.8')\n",
    "min_patch = mpatches.Patch(label = 'Minimum: 58')\n",
    "max_patch = mpatches.Patch(label = 'Maximum: 83')\n",
    "plt.legend(handles=[max_patch,avg_patch,min_patch], bbox_to_anchor=(1.02,1.02))\n",
    "plt.xlabel('Temperature Reads')\n",
    "plt.ylabel('Temperature')\n",
    "plt.title('Temperature Range', size=16)"
   ]
  },
  {
   "cell_type": "code",
   "execution_count": null,
   "metadata": {},
   "outputs": [],
   "source": []
  }
 ],
 "metadata": {
  "kernelspec": {
   "display_name": "Python DataAnalytics",
   "language": "python",
   "name": "dataanalytics"
  },
  "language_info": {
   "codemirror_mode": {
    "name": "ipython",
    "version": 3
   },
   "file_extension": ".py",
   "mimetype": "text/x-python",
   "name": "python",
   "nbconvert_exporter": "python",
   "pygments_lexer": "ipython3",
   "version": "3.6.4"
  }
 },
 "nbformat": 4,
 "nbformat_minor": 2
}
